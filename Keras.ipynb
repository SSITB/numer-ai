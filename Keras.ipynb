{
 "cells": [
  {
   "cell_type": "code",
   "execution_count": 9,
   "metadata": {},
   "outputs": [],
   "source": [
    "# Pandas and numpy for data manipulation\n",
    "import pandas as pd\n",
    "import numpy as np\n",
    "\n",
    "from sklearn.linear_model import LogisticRegressionCV\n",
    "\n",
    "# Sklearn helpers\n",
    "from sklearn.decomposition import PCA\n",
    "from sklearn.preprocessing import MinMaxScaler\n",
    "from sklearn.metrics import log_loss\n",
    "\n",
    "# Plotting results\n",
    "import matplotlib.pyplot as plt\n",
    "%matplotlib inline\n",
    "\n",
    "import seaborn as sns\n",
    "\n",
    "import matplotlib\n",
    "matplotlib.rcParams['font.size'] = 18\n",
    "\n",
    "# Keras for neural networks\n",
    "import keras \n",
    "import tensorflow as tf\n",
    "\n",
    "from keras import models, layers, optimizers, losses, metrics, callbacks"
   ]
  },
  {
   "cell_type": "code",
   "execution_count": 10,
   "metadata": {},
   "outputs": [],
   "source": [
    "def calc_log_loss(valid_predictions, name):\n",
    "    log_loss_value = log_loss(Y_valid, valid_predictions)\n",
    "    print('Log Loss for {}: {:.6f}.'.format(name, log_loss_value))"
   ]
  },
  {
   "cell_type": "code",
   "execution_count": 11,
   "metadata": {},
   "outputs": [],
   "source": [
    "def write_submit(test_predictions, filename):\n",
    "    results = pd.DataFrame({'id': ids, 'probability': list(test_predictions)})\n",
    "    filepath = 'submissions/%s.csv' % filename\n",
    "    results.to_csv(filepath, index = False)\n",
    "    print('Results saved to %s' % filepath)"
   ]
  },
  {
   "cell_type": "code",
   "execution_count": 12,
   "metadata": {},
   "outputs": [],
   "source": [
    "# Plot the training history of a keras model\n",
    "def plot_history(history):\n",
    "    val_loss = history.history['val_loss']\n",
    "    train_loss = history.history['loss']\n",
    "    epochs = [int(i) for i in list(range(1, len(val_loss) + 1))]\n",
    "    \n",
    "    plt.figure(figsize=(8, 6))\n",
    "    \n",
    "    plt.plot(epochs, train_loss, 'bo-', label = 'training loss')\n",
    "    plt.plot(epochs, val_loss, 'ro-', label = 'validation loss')\n",
    "    plt.xlabel('Epoch'); plt.ylabel('Log Loss'); plt.title('Training Curves')\n",
    "    plt.legend();\n",
    "    plt.show()"
   ]
  },
  {
   "cell_type": "code",
   "execution_count": 13,
   "metadata": {},
   "outputs": [],
   "source": [
    "def keras_model(model_checkpoint):\n",
    "    model = models.Sequential()\n",
    "    model.add(layers.Dense(64, activation = 'elu', input_dim = X.shape[1]))\n",
    "    model.add(layers.Dropout(0.5))\n",
    "    model.add(layers.Dense(128, activation = 'elu'))\n",
    "    model.add(layers.Dropout(0.5))\n",
    "    model.add(layers.Dense(256, activation = 'elu'))\n",
    "    model.add(layers.Dropout(0.5))\n",
    "    model.add(layers.Dense(128, activation = 'elu'))\n",
    "    model.add(layers.Dropout(0.5))\n",
    "    model.add(layers.Dense(64, activation = 'elu'))\n",
    "    model.add(layers.Dense(1, activation = 'sigmoid'))\n",
    "\n",
    "    model.compile(loss = losses.binary_crossentropy,\n",
    "                  metrics = [losses.binary_crossentropy],\n",
    "                  optimizer = optimizers.Adam())\n",
    "    \n",
    "    callback_list = [callbacks.ModelCheckpoint(filepath='models/%s.hdf5' % model_checkpoint, \n",
    "                                           save_best_only = True, monitor = 'val_loss'),\n",
    "                callbacks.EarlyStopping(monitor = 'val_loss', patience = 5)]\n",
    "\n",
    "    X_train_array = np.array(X)\n",
    "    X_valid_array = np.array(X_valid)\n",
    "    X_test_array = np.array(X_test)\n",
    "    \n",
    "    history = model.fit(X_train_array, Y, epochs = 25, batch_size = 128, \n",
    "                    validation_split = 0.2, callbacks=callback_list) \n",
    "\n",
    "    model.load_weights('models/%s.hdf5' % model_checkpoint)\n",
    "    \n",
    "    valid_predictions = model.predict(X_valid_array)[:, 0]\n",
    "    test_predictions = model.predict(X_test_array)[:, 0]\n",
    "    \n",
    "    return history, valid_predictions, test_predictions"
   ]
  },
  {
   "cell_type": "markdown",
   "metadata": {},
   "source": [
    "# Tournament 103"
   ]
  },
  {
   "cell_type": "code",
   "execution_count": 14,
   "metadata": {},
   "outputs": [],
   "source": [
    "def format_data():\n",
    "    train = pd.read_csv('../data/numerai_training_data.csv')\n",
    "    test = pd.read_csv('../data/numerai_tournament_data.csv')\n",
    "    \n",
    "    features = [f for f in list(train) if \"feature\" in f]\n",
    "    X = train[features]\n",
    "    Y = train.target\n",
    "    X_test = test[features]\n",
    "    ids = test['id']\n",
    "    \n",
    "    X_valid = test.ix[test['data_type'] == 'validation', features]\n",
    "    Y_valid = test.ix[test['data_type'] == 'validation', 'target']\n",
    "    \n",
    "    return X, Y, X_valid, Y_valid, X_test, ids\n",
    "\n",
    "X, Y, X_valid, Y_valid, X_test, ids = format_data()"
   ]
  },
  {
   "cell_type": "code",
   "execution_count": 15,
   "metadata": {},
   "outputs": [
    {
     "name": "stdout",
     "output_type": "stream",
     "text": [
      "Train on 314890 samples, validate on 78723 samples\n",
      "Epoch 1/25\n",
      "314890/314890 [==============================] - 66s 211us/step - loss: 0.6965 - binary_crossentropy: 0.6965 - val_loss: 0.6933 - val_binary_crossentropy: 0.6933\n",
      "Epoch 2/25\n",
      "314890/314890 [==============================] - 55s 175us/step - loss: 0.6938 - binary_crossentropy: 0.6938 - val_loss: 0.6935 - val_binary_crossentropy: 0.6935\n",
      "Epoch 3/25\n",
      "314890/314890 [==============================] - 60s 192us/step - loss: 0.6934 - binary_crossentropy: 0.6934 - val_loss: 0.6934 - val_binary_crossentropy: 0.6934\n",
      "Epoch 4/25\n",
      "314890/314890 [==============================] - 47s 150us/step - loss: 0.6935 - binary_crossentropy: 0.6935 - val_loss: 0.6930 - val_binary_crossentropy: 0.6930\n",
      "Epoch 5/25\n",
      "314890/314890 [==============================] - 46s 146us/step - loss: 0.6935 - binary_crossentropy: 0.6935 - val_loss: 0.6937 - val_binary_crossentropy: 0.6937\n",
      "Epoch 6/25\n",
      "314890/314890 [==============================] - 54s 173us/step - loss: 0.6936 - binary_crossentropy: 0.6936 - val_loss: 0.6936 - val_binary_crossentropy: 0.6936\n",
      "Epoch 7/25\n",
      "314890/314890 [==============================] - 51s 163us/step - loss: 0.6936 - binary_crossentropy: 0.6936 - val_loss: 0.6939 - val_binary_crossentropy: 0.6939s - ETA: 0s - loss: 0.6936 - binary_crosse\n",
      "Epoch 8/25\n",
      "314890/314890 [==============================] - 49s 155us/step - loss: 0.6936 - binary_crossentropy: 0.6936 - val_loss: 0.6933 - val_binary_crossentropy: 0.6933\n",
      "Epoch 9/25\n",
      "314890/314890 [==============================] - 48s 151us/step - loss: 0.6937 - binary_crossentropy: 0.6937 - val_loss: 0.6938 - val_binary_crossentropy: 0.6938\n"
     ]
    }
   ],
   "source": [
    "history, keras_valid_predictions, keras_test_predictions = keras_model('dnn_103_1')"
   ]
  },
  {
   "cell_type": "code",
   "execution_count": 16,
   "metadata": {},
   "outputs": [
    {
     "name": "stdout",
     "output_type": "stream",
     "text": [
      "Log Loss for keras_103_1: 0.692764.\n"
     ]
    }
   ],
   "source": [
    "calc_log_loss(keras_valid_predictions, name = 'keras_103_1')"
   ]
  },
  {
   "cell_type": "code",
   "execution_count": 17,
   "metadata": {},
   "outputs": [
    {
     "data": {
      "image/png": "[encoded data removed]",
      "text/plain": [
       "<Figure size 576x432 with 1 Axes>"
      ]
     },
     "metadata": {},
     "output_type": "display_data"
    }
   ],
   "source": [
    "plot_history(history)"
   ]
  },
  {
   "cell_type": "code",
   "execution_count": 19,
   "metadata": {},
   "outputs": [
    {
     "name": "stdout",
     "output_type": "stream",
     "text": [
      "Results saved to submissions/keras_103_1.csv\n"
     ]
    }
   ],
   "source": [
    "write_submit(keras_test_predictions, filename = 'keras_103_1')"
   ]
  },
  {
   "cell_type": "markdown",
   "metadata": {},
   "source": [
    "# Tournament 104"
   ]
  },
  {
   "cell_type": "code",
   "execution_count": null,
   "metadata": {},
   "outputs": [],
   "source": []
  }
 ],
 "metadata": {
  "kernelspec": {
   "display_name": "Python 3",
   "language": "python",
   "name": "python3"
  },
  "language_info": {
   "codemirror_mode": {
    "name": "ipython",
    "version": 3
   },
   "file_extension": ".py",
   "mimetype": "text/x-python",
   "name": "python",
   "nbconvert_exporter": "python",
   "pygments_lexer": "ipython3",
   "version": "3.6.4"
  }
 },
 "nbformat": 4,
 "nbformat_minor": 2
}
