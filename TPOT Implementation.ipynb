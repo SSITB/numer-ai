{
 "cells": [
  {
   "cell_type": "code",
   "execution_count": 8,
   "metadata": {},
   "outputs": [],
   "source": [
    "import numpy as np\n",
    "import pandas as pd\n",
    "from sklearn.decomposition import PCA\n",
    "from sklearn.linear_model import LogisticRegression\n",
    "from sklearn.model_selection import train_test_split\n",
    "from sklearn.pipeline import make_pipeline\n",
    "from sklearn.preprocessing import MaxAbsScaler\n",
    "\n",
    "from sklearn.metrics import log_loss"
   ]
  },
  {
   "cell_type": "code",
   "execution_count": 3,
   "metadata": {},
   "outputs": [
    {
     "name": "stderr",
     "output_type": "stream",
     "text": [
      "C:\\Users\\willk\\Anaconda3\\lib\\site-packages\\ipykernel_launcher.py:11: DeprecationWarning: \n",
      ".ix is deprecated. Please use\n",
      ".loc for label based indexing or\n",
      ".iloc for positional indexing\n",
      "\n",
      "See the documentation here:\n",
      "http://pandas.pydata.org/pandas-docs/stable/indexing.html#ix-indexer-is-deprecated\n",
      "  # This is added back by InteractiveShellApp.init_path()\n"
     ]
    }
   ],
   "source": [
    "def format_data():\n",
    "    train = pd.read_csv('data/numerai_training_data.csv')\n",
    "    test = pd.read_csv('data/numerai_tournament_data.csv')\n",
    "    \n",
    "    features = [f for f in list(train) if \"feature\" in f]\n",
    "    X = train[features]\n",
    "    Y = train.target\n",
    "    X_test = test[features]\n",
    "    ids = test['id']\n",
    "    \n",
    "    X_valid = test.ix[test['data_type'] == 'validation', features]\n",
    "    Y_valid = test.ix[test['data_type'] == 'validation', 'target']\n",
    "    \n",
    "    return X, Y, X_valid, Y_valid, X_test, ids\n",
    "\n",
    "X, Y, X_valid, Y_valid, X_test, ids = format_data()"
   ]
  },
  {
   "cell_type": "code",
   "execution_count": 4,
   "metadata": {},
   "outputs": [],
   "source": [
    "# Function to calculate log loss on the validation set\n",
    "def calc_log_loss(valid_predictions, name):\n",
    "    log_loss_value = log_loss(Y_valid, valid_predictions)\n",
    "    print('Log Loss for {}: {:.6f}.'.format(name, log_loss_value))"
   ]
  },
  {
   "cell_type": "code",
   "execution_count": 12,
   "metadata": {},
   "outputs": [],
   "source": [
    "# Function to write a submission file to the provided filename\n",
    "def write_submit(test_predictions, filename):\n",
    "    results = pd.DataFrame({'id': ids, 'probability': list(test_predictions)})\n",
    "    filepath = 'submissions/%s.csv' % filename\n",
    "    results.to_csv(filepath, index = False)\n",
    "    print('Results saved to %s' % filepath)"
   ]
  },
  {
   "cell_type": "code",
   "execution_count": 5,
   "metadata": {},
   "outputs": [
    {
     "data": {
      "text/plain": [
       "Pipeline(memory=None,\n",
       "     steps=[('maxabsscaler', MaxAbsScaler(copy=True)), ('pca', PCA(copy=True, iterated_power=4, n_components=None, random_state=None,\n",
       "  svd_solver='randomized', tol=0.0, whiten=False)), ('logisticregression', LogisticRegression(C=0.01, class_weight=None, dual=False, fit_intercept=True,\n",
       "          intercept_scaling=1, max_iter=100, multi_class='ovr', n_jobs=1,\n",
       "          penalty='l1', random_state=None, solver='liblinear', tol=0.0001,\n",
       "          verbose=0, warm_start=False))])"
      ]
     },
     "execution_count": 5,
     "metadata": {},
     "output_type": "execute_result"
    }
   ],
   "source": [
    "# Implement the exported pipeline from TPOT\n",
    "exported_pipeline = make_pipeline(\n",
    "    MaxAbsScaler(),\n",
    "    PCA(iterated_power=4, svd_solver=\"randomized\"),\n",
    "    LogisticRegression(C=0.01, dual=False, penalty=\"l1\")\n",
    ")\n",
    "\n",
    "# Fit on the training data\n",
    "exported_pipeline.fit(X, Y)"
   ]
  },
  {
   "cell_type": "code",
   "execution_count": 9,
   "metadata": {},
   "outputs": [
    {
     "name": "stdout",
     "output_type": "stream",
     "text": [
      "Log Loss for exported_pipeline_implementation: 0.692528.\n"
     ]
    }
   ],
   "source": [
    "# Calculate the valiation log loss\n",
    "calc_log_loss(exported_pipeline.predict_proba(X_valid)[:, 1], name = 'exported_pipeline_implementation')"
   ]
  },
  {
   "cell_type": "code",
   "execution_count": 14,
   "metadata": {},
   "outputs": [
    {
     "name": "stdout",
     "output_type": "stream",
     "text": [
      "Results saved to submissions/107_tpot_1.csv\n"
     ]
    }
   ],
   "source": [
    "# Make predictions on the testing set\n",
    "exported_pipeline_predictions = exported_pipeline.predict_proba(X_test)[:, 1]\n",
    "\n",
    "# Save to a prediction file\n",
    "write_submit(exported_pipeline_predictions, filename = '107_tpot_1')"
   ]
  },
  {
   "cell_type": "code",
   "execution_count": null,
   "metadata": {},
   "outputs": [],
   "source": []
  }
 ],
 "metadata": {
  "kernelspec": {
   "display_name": "Python 3",
   "language": "python",
   "name": "python3"
  },
  "language_info": {
   "codemirror_mode": {
    "name": "ipython",
    "version": 3
   },
   "file_extension": ".py",
   "mimetype": "text/x-python",
   "name": "python",
   "nbconvert_exporter": "python",
   "pygments_lexer": "ipython3",
   "version": "3.6.4"
  }
 },
 "nbformat": 4,
 "nbformat_minor": 2
}
